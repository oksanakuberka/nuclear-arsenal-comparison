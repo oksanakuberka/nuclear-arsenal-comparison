{
 "cells": [
  {
   "cell_type": "markdown",
   "metadata": {},
   "source": [
    "# Analysis of Global Nuclear Arsenal Data"
   ]
  },
  {
   "cell_type": "markdown",
   "metadata": {},
   "source": [
    "This section presents the cleaned dataset containing information on the nuclear arsenals of various countries. The dataset includes details such as the year of the first nuclear test, the number of deployed and stored warheads, total inventory, and retired warheads. This data is crucial for understanding the global distribution of nuclear weapons."
   ]
  },
  {
   "cell_type": "code",
   "execution_count": 126,
   "metadata": {},
   "outputs": [
    {
     "name": "stdout",
     "output_type": "stream",
     "text": [
      "Data successfully saved to C:\\ядерна зброя\\cleaned_nuclear_data.xlsx\n"
     ]
    }
   ],
   "source": [
    "import pandas as pd\n",
    "\n",
    "# Assume that 'cleaned_data' is your final cleaned DataFrame\n",
    "cleaned_data = pd.DataFrame({\n",
    "    \"Country\": [\"United States\", \"Russia\", \"United Kingdom\", \"France\", \"China\", \"India\", \"Pakistan\", \"North Korea\", \"Israel\"],\n",
    "    \"Year of first nuclear test\": [1945, 1949, 1952, 1960, 1964, 1974, 1998, 2006, None],\n",
    "    \"Deployed\": [1770.0, 1674.0, 120.0, 280.0, 0.0, 0.0, 0.0, 0.0, 0.0],\n",
    "    \"Stored\": [1938.0, 2815.0, 105.0, 10.0, 410.0, 164.0, 170.0, 30.0, 90.0],\n",
    "    \"Total\": [3708.0, 4489.0, 225.0, 290.0, 410.0, 164.0, 170.0, 30.0, 90.0],\n",
    "    \"Retired\": [1536.0, 1400.0, 0.0, None, 0.0, None, None, None, None],\n",
    "    \"Total inventory\": [5244, 5889, 225, 290, 410, 164, 170, 30, 90]\n",
    "})\n",
    "\n",
    "# Save the cleaned data to a new Excel file\n",
    "output_file_path = \"C:\\\\ядерна зброя\\\\cleaned_nuclear_data.xlsx\"\n",
    "cleaned_data.to_excel(output_file_path, index=False)\n",
    "\n",
    "print(\"Data successfully saved to\", output_file_path)\n",
    "\n"
   ]
  },
  {
   "cell_type": "markdown",
   "metadata": {},
   "source": [
    "# Load and Display Nuclear Arsenal Data"
   ]
  },
  {
   "cell_type": "markdown",
   "metadata": {},
   "source": [
    "In this section, we will load the cleaned nuclear arsenal data from an Excel file and display the first few rows. This data provides insights into the nuclear capabilities of various countries, including information on deployed and stored warheads."
   ]
  },
  {
   "cell_type": "code",
   "execution_count": 127,
   "metadata": {},
   "outputs": [
    {
     "name": "stdout",
     "output_type": "stream",
     "text": [
      "          Country  Year of first nuclear test  Deployed  Stored  Total  \\\n",
      "0   United States                      1945.0      1770    1938   3708   \n",
      "1          Russia                      1949.0      1674    2815   4489   \n",
      "2  United Kingdom                      1952.0       120     105    225   \n",
      "3          France                      1960.0       280      10    290   \n",
      "4           China                      1964.0         0     410    410   \n",
      "\n",
      "   Retired  Total inventory  \n",
      "0   1536.0             5244  \n",
      "1   1400.0             5889  \n",
      "2      0.0              225  \n",
      "3      NaN              290  \n",
      "4      0.0              410  \n"
     ]
    }
   ],
   "source": [
    "import pandas as pd\n",
    "\n",
    "# Load the cleaned data\n",
    "file_path = \"C:\\\\ядерна зброя\\\\cleaned_nuclear_data.xlsx\"\n",
    "data = pd.read_excel(file_path)\n",
    "\n",
    "# Display the first few rows of the data\n",
    "print(data.head())\n"
   ]
  },
  {
   "cell_type": "markdown",
   "metadata": {},
   "source": [
    "# Display Nuclear Arsenal Data"
   ]
  },
  {
   "cell_type": "markdown",
   "metadata": {},
   "source": [
    "The following table presents the cleaned nuclear arsenal data, which includes information about various countries and their nuclear capabilities."
   ]
  },
  {
   "cell_type": "code",
   "execution_count": 128,
   "metadata": {},
   "outputs": [
    {
     "data": {
      "text/html": [
       "<div>\n",
       "<style scoped>\n",
       "    .dataframe tbody tr th:only-of-type {\n",
       "        vertical-align: middle;\n",
       "    }\n",
       "\n",
       "    .dataframe tbody tr th {\n",
       "        vertical-align: top;\n",
       "    }\n",
       "\n",
       "    .dataframe thead th {\n",
       "        text-align: right;\n",
       "    }\n",
       "</style>\n",
       "<table border=\"1\" class=\"dataframe\">\n",
       "  <thead>\n",
       "    <tr style=\"text-align: right;\">\n",
       "      <th></th>\n",
       "      <th>Country</th>\n",
       "      <th>Year of first nuclear test</th>\n",
       "      <th>Deployed</th>\n",
       "      <th>Stored</th>\n",
       "      <th>Total</th>\n",
       "      <th>Retired</th>\n",
       "      <th>Total inventory</th>\n",
       "    </tr>\n",
       "  </thead>\n",
       "  <tbody>\n",
       "    <tr>\n",
       "      <th>0</th>\n",
       "      <td>United States</td>\n",
       "      <td>1945.0</td>\n",
       "      <td>1770</td>\n",
       "      <td>1938</td>\n",
       "      <td>3708</td>\n",
       "      <td>1536.0</td>\n",
       "      <td>5244</td>\n",
       "    </tr>\n",
       "    <tr>\n",
       "      <th>1</th>\n",
       "      <td>Russia</td>\n",
       "      <td>1949.0</td>\n",
       "      <td>1674</td>\n",
       "      <td>2815</td>\n",
       "      <td>4489</td>\n",
       "      <td>1400.0</td>\n",
       "      <td>5889</td>\n",
       "    </tr>\n",
       "    <tr>\n",
       "      <th>2</th>\n",
       "      <td>United Kingdom</td>\n",
       "      <td>1952.0</td>\n",
       "      <td>120</td>\n",
       "      <td>105</td>\n",
       "      <td>225</td>\n",
       "      <td>0.0</td>\n",
       "      <td>225</td>\n",
       "    </tr>\n",
       "    <tr>\n",
       "      <th>3</th>\n",
       "      <td>France</td>\n",
       "      <td>1960.0</td>\n",
       "      <td>280</td>\n",
       "      <td>10</td>\n",
       "      <td>290</td>\n",
       "      <td>NaN</td>\n",
       "      <td>290</td>\n",
       "    </tr>\n",
       "    <tr>\n",
       "      <th>4</th>\n",
       "      <td>China</td>\n",
       "      <td>1964.0</td>\n",
       "      <td>0</td>\n",
       "      <td>410</td>\n",
       "      <td>410</td>\n",
       "      <td>0.0</td>\n",
       "      <td>410</td>\n",
       "    </tr>\n",
       "    <tr>\n",
       "      <th>5</th>\n",
       "      <td>India</td>\n",
       "      <td>1974.0</td>\n",
       "      <td>0</td>\n",
       "      <td>164</td>\n",
       "      <td>164</td>\n",
       "      <td>NaN</td>\n",
       "      <td>164</td>\n",
       "    </tr>\n",
       "    <tr>\n",
       "      <th>6</th>\n",
       "      <td>Pakistan</td>\n",
       "      <td>1998.0</td>\n",
       "      <td>0</td>\n",
       "      <td>170</td>\n",
       "      <td>170</td>\n",
       "      <td>NaN</td>\n",
       "      <td>170</td>\n",
       "    </tr>\n",
       "    <tr>\n",
       "      <th>7</th>\n",
       "      <td>North Korea</td>\n",
       "      <td>2006.0</td>\n",
       "      <td>0</td>\n",
       "      <td>30</td>\n",
       "      <td>30</td>\n",
       "      <td>NaN</td>\n",
       "      <td>30</td>\n",
       "    </tr>\n",
       "    <tr>\n",
       "      <th>8</th>\n",
       "      <td>Israel</td>\n",
       "      <td>NaN</td>\n",
       "      <td>0</td>\n",
       "      <td>90</td>\n",
       "      <td>90</td>\n",
       "      <td>NaN</td>\n",
       "      <td>90</td>\n",
       "    </tr>\n",
       "  </tbody>\n",
       "</table>\n",
       "</div>"
      ],
      "text/plain": [
       "          Country  Year of first nuclear test  Deployed  Stored  Total  \\\n",
       "0   United States                      1945.0      1770    1938   3708   \n",
       "1          Russia                      1949.0      1674    2815   4489   \n",
       "2  United Kingdom                      1952.0       120     105    225   \n",
       "3          France                      1960.0       280      10    290   \n",
       "4           China                      1964.0         0     410    410   \n",
       "5           India                      1974.0         0     164    164   \n",
       "6        Pakistan                      1998.0         0     170    170   \n",
       "7     North Korea                      2006.0         0      30     30   \n",
       "8          Israel                         NaN         0      90     90   \n",
       "\n",
       "   Retired  Total inventory  \n",
       "0   1536.0             5244  \n",
       "1   1400.0             5889  \n",
       "2      0.0              225  \n",
       "3      NaN              290  \n",
       "4      0.0              410  \n",
       "5      NaN              164  \n",
       "6      NaN              170  \n",
       "7      NaN               30  \n",
       "8      NaN               90  "
      ]
     },
     "execution_count": 128,
     "metadata": {},
     "output_type": "execute_result"
    }
   ],
   "source": [
    "# Виведення таблиці\n",
    "data\n"
   ]
  },
  {
   "cell_type": "markdown",
   "metadata": {},
   "source": [
    "# Bar Chart of Nuclear Warheads by Country"
   ]
  },
  {
   "cell_type": "markdown",
   "metadata": {},
   "source": [
    "The following code creates a bar chart that visualizes the total number of nuclear warheads by country. The bars are color-coded based on the number of warheads:\n",
    "\n",
    "- **Red** for countries with more than 1000 warheads\n",
    "- **Orange** for countries with more than 500 warheads\n",
    "- **Green** for countries with 500 or fewer warheads"
   ]
  },
  {
   "cell_type": "markdown",
   "metadata": {},
   "source": [
    "## Python Code"
   ]
  },
  {
   "cell_type": "code",
   "execution_count": 129,
   "metadata": {},
   "outputs": [
    {
     "data": {
      "image/png": "[encoded data removed]",
      "text/plain": [
       "<Figure size 1200x600 with 1 Axes>"
      ]
     },
     "metadata": {},
     "output_type": "display_data"
    }
   ],
   "source": [
    "\n",
    "import matplotlib.pyplot as plt\n",
    "import pandas as pd\n",
    "\n",
    "# Assume you already have cleaned data\n",
    "# cleaned_data = pd.read_excel(\"path_to_your_file.xlsx\")\n",
    "\n",
    "# Sort the data\n",
    "cleaned_data = cleaned_data.sort_values(by='Total inventory', ascending=False)\n",
    "\n",
    "# Define colors for the bars\n",
    "colors = []\n",
    "for value in cleaned_data['Total inventory']:\n",
    "    if value > 1000:  # Set thresholds for colors\n",
    "        colors.append('red')  # High number of warheads\n",
    "    elif value > 500:\n",
    "        colors.append('orange')  # Medium number\n",
    "    else:\n",
    "        colors.append('green')  # Low number\n",
    "\n",
    "# Set the size of the figure\n",
    "plt.figure(figsize=(12, 6))\n",
    "\n",
    "# Create the bar chart with color-coded bars\n",
    "plt.bar(cleaned_data['Country'], cleaned_data['Total inventory'], color=colors)\n",
    "plt.xlabel('Countries')\n",
    "plt.ylabel('Total Number of Warheads')\n",
    "plt.title('Total Number of Nuclear Warheads by Country')\n",
    "plt.xticks(rotation=45)\n",
    "plt.tight_layout()  # Automatically adjusts spacing for axes\n",
    "\n",
    "# Adding data labels on the bars\n",
    "for index, value in enumerate(cleaned_data['Total inventory']):\n",
    "    plt.text(index, value, str(int(value)), ha='center', va='bottom')\n",
    "\n",
    "# Display the chart\n",
    "plt.show()\n",
    "\n",
    "\n"
   ]
  },
  {
   "cell_type": "markdown",
   "metadata": {},
   "source": [
    "# Identifying the Country with the Largest Nuclear Arsenal"
   ]
  },
  {
   "cell_type": "markdown",
   "metadata": {},
   "source": [
    "The following code reads the cleaned nuclear data from an Excel file and identifies the country that has the largest nuclear arsenal based on the total inventory of nuclear warheads."
   ]
  },
  {
   "cell_type": "markdown",
   "metadata": {},
   "source": [
    "## Python Code"
   ]
  },
  {
   "cell_type": "code",
   "execution_count": 130,
   "metadata": {},
   "outputs": [
    {
     "name": "stdout",
     "output_type": "stream",
     "text": [
      "The country with the largest nuclear arsenal is Russia with 5889 units.\n"
     ]
    }
   ],
   "source": [
    "import pandas as pd\n",
    "\n",
    "# Read the cleaned data from the Excel file\n",
    "file_path = \"C:\\\\ядерна зброя\\\\cleaned_nuclear_data.xlsx\"\n",
    "cleaned_data = pd.read_excel(file_path)\n",
    "\n",
    "# Find the country with the largest nuclear arsenal\n",
    "largest_nuclear_country = cleaned_data.loc[cleaned_data['Total inventory'].idxmax()]\n",
    "\n",
    "# Print the result\n",
    "print(f\"The country with the largest nuclear arsenal is {largest_nuclear_country['Country']} \"\n",
    "      f\"with {largest_nuclear_country['Total inventory']} units.\")\n"
   ]
  }
 ],
 "metadata": {
  "kernelspec": {
   "display_name": "Python 3",
   "language": "python",
   "name": "python3"
  },
  "language_info": {
   "codemirror_mode": {
    "name": "ipython",
    "version": 3
   },
   "file_extension": ".py",
   "mimetype": "text/x-python",
   "name": "python",
   "nbconvert_exporter": "python",
   "pygments_lexer": "ipython3",
   "version": "3.12.4"
  }
 },
 "nbformat": 4,
 "nbformat_minor": 2
}
